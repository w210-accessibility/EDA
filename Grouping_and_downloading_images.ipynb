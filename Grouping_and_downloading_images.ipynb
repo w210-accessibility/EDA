{
 "cells": [
  {
   "cell_type": "code",
   "execution_count": 69,
   "metadata": {},
   "outputs": [],
   "source": [
    "import pandas as pd\n",
    "import numpy as np\n",
    "import s3fs\n",
    "import boto3\n",
    "import os"
   ]
  },
  {
   "cell_type": "code",
   "execution_count": 62,
   "metadata": {},
   "outputs": [],
   "source": [
    "desired_img = pd.read_csv('images_to_label.csv', index_col=0, names = [\"label\",\"grp\"])"
   ]
  },
  {
   "cell_type": "code",
   "execution_count": 63,
   "metadata": {},
   "outputs": [
    {
     "data": {
      "text/html": [
       "<div>\n",
       "<style scoped>\n",
       "    .dataframe tbody tr th:only-of-type {\n",
       "        vertical-align: middle;\n",
       "    }\n",
       "\n",
       "    .dataframe tbody tr th {\n",
       "        vertical-align: top;\n",
       "    }\n",
       "\n",
       "    .dataframe thead th {\n",
       "        text-align: right;\n",
       "    }\n",
       "</style>\n",
       "<table border=\"1\" class=\"dataframe\">\n",
       "  <thead>\n",
       "    <tr style=\"text-align: right;\">\n",
       "      <th></th>\n",
       "      <th>label</th>\n",
       "      <th>grp</th>\n",
       "    </tr>\n",
       "  </thead>\n",
       "  <tbody>\n",
       "    <tr>\n",
       "      <th>ID</th>\n",
       "      <td>Likely Label</td>\n",
       "      <td>Assigned to</td>\n",
       "    </tr>\n",
       "    <tr>\n",
       "      <th>877</th>\n",
       "      <td>missing ramp</td>\n",
       "      <td>A</td>\n",
       "    </tr>\n",
       "    <tr>\n",
       "      <th>1042</th>\n",
       "      <td>missing ramp</td>\n",
       "      <td>A</td>\n",
       "    </tr>\n",
       "    <tr>\n",
       "      <th>1205</th>\n",
       "      <td>missing ramp</td>\n",
       "      <td>A</td>\n",
       "    </tr>\n",
       "    <tr>\n",
       "      <th>3613</th>\n",
       "      <td>missing ramp</td>\n",
       "      <td>A</td>\n",
       "    </tr>\n",
       "  </tbody>\n",
       "</table>\n",
       "</div>"
      ],
      "text/plain": [
       "             label          grp\n",
       "ID    Likely Label  Assigned to\n",
       "877   missing ramp            A\n",
       "1042  missing ramp            A\n",
       "1205  missing ramp            A\n",
       "3613  missing ramp            A"
      ]
     },
     "execution_count": 63,
     "metadata": {},
     "output_type": "execute_result"
    }
   ],
   "source": [
    "desired_img.head()"
   ]
  },
  {
   "cell_type": "code",
   "execution_count": 14,
   "metadata": {},
   "outputs": [],
   "source": [
    "set_imgs = set(desired_img.index)"
   ]
  },
  {
   "cell_type": "code",
   "execution_count": 22,
   "metadata": {},
   "outputs": [],
   "source": [
    "fs = s3fs.S3FileSystem()\n",
    "s3 = boto3.client('s3')\n",
    "fnames = fs.ls('s3://streetview-w210/gsv/')\n",
    "fnames2 = fs.ls('s3://streetview-w210/')"
   ]
  },
  {
   "cell_type": "code",
   "execution_count": 36,
   "metadata": {},
   "outputs": [],
   "source": [
    "to_pull = []\n",
    "for x in fnames:\n",
    "    if x.endswith('.json'):\n",
    "        x_id = np.int64(x[20:-5])\n",
    "        if x_id in set_imgs:\n",
    "            for i in ['_45','_135','_225','_315']:\n",
    "                fname = x[:-5] + i + \".jpg\"\n",
    "                to_pull.append(fname)\n",
    "for x in fnames2:\n",
    "    if x.endswith('.json'):\n",
    "        x_id = np.int64(x[16:-5])\n",
    "        if x_id in set_imgs:\n",
    "            for i in ['_45','_135','_225','_315']:\n",
    "                fname = x[:-5] + i + \".jpg\"\n",
    "                to_pull.append(fname)"
   ]
  },
  {
   "cell_type": "code",
   "execution_count": 37,
   "metadata": {},
   "outputs": [
    {
     "data": {
      "text/plain": [
       "2248"
      ]
     },
     "execution_count": 37,
     "metadata": {},
     "output_type": "execute_result"
    }
   ],
   "source": [
    "len(to_pull)"
   ]
  },
  {
   "cell_type": "code",
   "execution_count": 70,
   "metadata": {},
   "outputs": [],
   "source": [
    "s3 = boto3.resource('s3') \n",
    "bucket = s3.Bucket('streetview-w210')\n",
    "for fname in to_pull:\n",
    "    src = fname[16:]\n",
    "    if src.startswith('gsv/'):\n",
    "        x = src[4:].split(\"_\")\n",
    "        grp = desired_img.grp.loc[x[0]]\n",
    "        dest = \"images/\" + grp + \"/\" + src[4:]\n",
    "    else:\n",
    "        x = src.split(\"_\")\n",
    "        grp = desired_img.grp.loc[x[0]]\n",
    "        dest = \"images/\" + grp + \"/\" + src\n",
    "    bucket.download_file(src, dest)"
   ]
  },
  {
   "cell_type": "markdown",
   "metadata": {},
   "source": [
    "Use terminal to convert to zip:\n",
    "\n",
    "`zip -r -X A.zip A`"
   ]
  },
  {
   "cell_type": "code",
   "execution_count": null,
   "metadata": {},
   "outputs": [],
   "source": []
  }
 ],
 "metadata": {
  "kernelspec": {
   "display_name": "conda_python3",
   "language": "python",
   "name": "conda_python3"
  },
  "language_info": {
   "codemirror_mode": {
    "name": "ipython",
    "version": 3
   },
   "file_extension": ".py",
   "mimetype": "text/x-python",
   "name": "python",
   "nbconvert_exporter": "python",
   "pygments_lexer": "ipython3",
   "version": "3.6.5"
  }
 },
 "nbformat": 4,
 "nbformat_minor": 4
}
