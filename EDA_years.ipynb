{
 "cells": [
  {
   "cell_type": "markdown",
   "metadata": {},
   "source": [
    "# Extracting years and coordinates from json files"
   ]
  },
  {
   "cell_type": "code",
   "execution_count": 1,
   "metadata": {},
   "outputs": [],
   "source": [
    "import pandas as pd\n",
    "import s3fs\n",
    "import boto3\n",
    "import json\n",
    "from datetime import datetime\n",
    "from matplotlib import pyplot as plt"
   ]
  },
  {
   "cell_type": "code",
   "execution_count": null,
   "metadata": {},
   "outputs": [],
   "source": [
    "#s3_resource = boto3.resource('s3')\n",
    "## Copy object A as object B\n",
    "#for \n",
    "#s3_resource.Object('streetview-w210', 'gsv/').copy_from(\n",
    "# CopySource=”path/to/your/object_A.txt”)\n",
    "## Delete the former object A\n",
    "#s3_resource.Object(“bucket_name”, “path/to/your/object_A.txt”).delete()"
   ]
  },
  {
   "cell_type": "code",
   "execution_count": 4,
   "metadata": {},
   "outputs": [
    {
     "data": {
      "text/plain": [
       "19615"
      ]
     },
     "execution_count": 4,
     "metadata": {},
     "output_type": "execute_result"
    }
   ],
   "source": [
    "fs = s3fs.S3FileSystem()\n",
    "s3 = boto3.client('s3')\n",
    "fnames = fs.ls('s3://streetview-w210/gsv/')\n",
    "fnames = [x for x in fnames if x.endswith('.json')]\n",
    "fnames2 = fs.ls('s3://streetview-w210/')\n",
    "fnames2 = [x for x in fnames2 if x.endswith('.json')]\n",
    "fnames = fnames + fnames2\n",
    "len(fnames)"
   ]
  },
  {
   "cell_type": "code",
   "execution_count": 5,
   "metadata": {},
   "outputs": [
    {
     "name": "stdout",
     "output_type": "stream",
     "text": [
      "0:11:10.078211\n"
     ]
    }
   ],
   "source": [
    "bucket_name = 'streetview-w210'\n",
    "dates, lat, long = [],[],[]\n",
    "\n",
    "start = datetime.now()\n",
    "\n",
    "for i,fname in enumerate(fnames):\n",
    "    json_path = 's3://{}'.format(fname)\n",
    "    obj = s3.get_object(Bucket=bucket_name, Key=fname[len(bucket_name)+1:])\n",
    "    json_file = obj['Body'].read().decode('utf-8')\n",
    "    \n",
    "    file_data = json.loads(json_file)\n",
    "    if 'date' not in file_data:\n",
    "        continue\n",
    "    dates.append(file_data['date'])\n",
    "    lat.append(file_data['location']['lat'])\n",
    "    long.append(file_data['location']['lng'])\n",
    "    \n",
    "print(datetime.now()-start)\n",
    "\n",
    "df = pd.DataFrame([dates,lat,long]).transpose()\n",
    "df.columns = ['date','lat','long']"
   ]
  },
  {
   "cell_type": "code",
   "execution_count": 6,
   "metadata": {},
   "outputs": [],
   "source": [
    "df.to_csv('years.csv', index=False)"
   ]
  },
  {
   "cell_type": "code",
   "execution_count": null,
   "metadata": {},
   "outputs": [],
   "source": []
  }
 ],
 "metadata": {
  "kernelspec": {
   "display_name": "conda_tensorflow_p27",
   "language": "python",
   "name": "conda_tensorflow_p27"
  },
  "language_info": {
   "codemirror_mode": {
    "name": "ipython",
    "version": 2
   },
   "file_extension": ".py",
   "mimetype": "text/x-python",
   "name": "python",
   "nbconvert_exporter": "python",
   "pygments_lexer": "ipython2",
   "version": "2.7.15"
  }
 },
 "nbformat": 4,
 "nbformat_minor": 4
}
