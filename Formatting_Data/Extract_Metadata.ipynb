{
 "cells": [
  {
   "cell_type": "code",
   "execution_count": 1,
   "metadata": {},
   "outputs": [],
   "source": [
    "import pandas as pd\n",
    "import s3fs\n",
    "import boto3\n",
    "import json\n",
    "from datetime import datetime"
   ]
  },
  {
   "cell_type": "code",
   "execution_count": 2,
   "metadata": {},
   "outputs": [
    {
     "data": {
      "text/plain": [
       "19325"
      ]
     },
     "execution_count": 2,
     "metadata": {},
     "output_type": "execute_result"
    }
   ],
   "source": [
    "fs = s3fs.S3FileSystem()\n",
    "s3 = boto3.client('s3')\n",
    "fnames = fs.ls('s3://streetview-w210/gsv/')\n",
    "fnames = [x for x in fnames if x.endswith('.json')]\n",
    "len(fnames)"
   ]
  },
  {
   "cell_type": "code",
   "execution_count": 3,
   "metadata": {},
   "outputs": [
    {
     "name": "stdout",
     "output_type": "stream",
     "text": [
      "0:10:52.121497\n"
     ]
    }
   ],
   "source": [
    "bucket_name = 'streetview-w210'\n",
    "dates, lat, long, name, pano_id = [],[],[],[],[]\n",
    "\n",
    "start = datetime.now()\n",
    "\n",
    "for i,fname in enumerate(fnames):\n",
    "    json_path = 's3://{}'.format(fname)\n",
    "    obj = s3.get_object(Bucket=bucket_name, Key=fname[len(bucket_name)+1:])\n",
    "    json_file = obj['Body'].read().decode('utf-8')\n",
    "    \n",
    "    file_data = json.loads(json_file)\n",
    "    if 'date' not in file_data:\n",
    "        print(fname)\n",
    "        continue\n",
    "    dates.append(file_data['date'])\n",
    "    lat.append(file_data['location']['lat'])\n",
    "    long.append(file_data['location']['lng'])\n",
    "    pano_id.append(file_data['pano_id'])\n",
    "    name.append(fname[len(bucket_name)+1:])\n",
    "    \n",
    "    \n",
    "print(datetime.now()-start)\n",
    "\n",
    "df = pd.DataFrame([dates,lat,long,pano_id,name]).transpose()\n",
    "df.columns = ['date','lat','long','pano_id','name']"
   ]
  },
  {
   "cell_type": "code",
   "execution_count": 5,
   "metadata": {},
   "outputs": [],
   "source": [
    "df['name'] = [x[4:] for x in df['name']]"
   ]
  },
  {
   "cell_type": "code",
   "execution_count": 6,
   "metadata": {},
   "outputs": [],
   "source": [
    "df.to_csv('gsv_metadata.csv')"
   ]
  },
  {
   "cell_type": "code",
   "execution_count": null,
   "metadata": {},
   "outputs": [],
   "source": []
  }
 ],
 "metadata": {
  "kernelspec": {
   "display_name": "conda_python3",
   "language": "python",
   "name": "conda_python3"
  },
  "language_info": {
   "codemirror_mode": {
    "name": "ipython",
    "version": 3
   },
   "file_extension": ".py",
   "mimetype": "text/x-python",
   "name": "python",
   "nbconvert_exporter": "python",
   "pygments_lexer": "ipython3",
   "version": "3.6.5"
  }
 },
 "nbformat": 4,
 "nbformat_minor": 4
}
